{
 "cells": [
  {
   "cell_type": "code",
   "execution_count": 1,
   "id": "b1dc15a0",
   "metadata": {},
   "outputs": [],
   "source": [
    "import numpy as np"
   ]
  },
  {
   "cell_type": "code",
   "execution_count": 2,
   "id": "9cef0ddb",
   "metadata": {},
   "outputs": [],
   "source": [
    "# reward matrix\n",
    "\n",
    "R = np.matrix([[-1,-1,-1,-1,0,-1],\n",
    "               [-1,-1,-1,0,-1,100],\n",
    "               [-1,-1,-1,0,-1,-1],\n",
    "               [-1,0,0,-1,0,-1],\n",
    "               [-1,0,0,-1,-1,100],\n",
    "               [-1,0,-1,-1,0,100]])"
   ]
  },
  {
   "cell_type": "code",
   "execution_count": 4,
   "id": "628e01ca",
   "metadata": {},
   "outputs": [],
   "source": [
    "# Q-matrix\n",
    "\n",
    "Q = np.matrix(np.zeros([6,6]))"
   ]
  },
  {
   "cell_type": "code",
   "execution_count": 5,
   "id": "9c39fad3",
   "metadata": {},
   "outputs": [
    {
     "name": "stdout",
     "output_type": "stream",
     "text": [
      "[[0. 0. 0. 0. 0. 0.]\n",
      " [0. 0. 0. 0. 0. 0.]\n",
      " [0. 0. 0. 0. 0. 0.]\n",
      " [0. 0. 0. 0. 0. 0.]\n",
      " [0. 0. 0. 0. 0. 0.]\n",
      " [0. 0. 0. 0. 0. 0.]]\n"
     ]
    }
   ],
   "source": [
    "print(Q)"
   ]
  },
  {
   "cell_type": "code",
   "execution_count": 6,
   "id": "1fb34993",
   "metadata": {},
   "outputs": [],
   "source": [
    "# gamma_learning rate\n",
    "\n",
    "gamma = 0.8"
   ]
  },
  {
   "cell_type": "code",
   "execution_count": 7,
   "id": "62a23237",
   "metadata": {},
   "outputs": [],
   "source": [
    "# initial state\n",
    "\n",
    "initial_state = 1"
   ]
  },
  {
   "cell_type": "code",
   "execution_count": 8,
   "id": "b2bc94b6",
   "metadata": {},
   "outputs": [],
   "source": [
    "# function to return all the available actions in the state given as an argument"
   ]
  },
  {
   "cell_type": "code",
   "execution_count": 16,
   "id": "55fadee9",
   "metadata": {},
   "outputs": [],
   "source": [
    "def available_actions(state) :\n",
    "    current_state_row = R[state,]\n",
    "    av_act = np.where(current_state_row >= 0)[1]\n",
    "    return av_act"
   ]
  },
  {
   "cell_type": "code",
   "execution_count": 17,
   "id": "5429417b",
   "metadata": {},
   "outputs": [],
   "source": [
    "available_act = available_actions(initial_state)"
   ]
  },
  {
   "cell_type": "code",
   "execution_count": 18,
   "id": "28ab7fea",
   "metadata": {},
   "outputs": [
    {
     "name": "stdout",
     "output_type": "stream",
     "text": [
      "[3 5]\n"
     ]
    }
   ],
   "source": [
    "print(available_act)"
   ]
  },
  {
   "cell_type": "code",
   "execution_count": 19,
   "id": "f16be6c9",
   "metadata": {},
   "outputs": [],
   "source": [
    "def sample_next_actions(available_act) :\n",
    "    next_action = int(np.random.choice(available_act, 1))\n",
    "    return next_action"
   ]
  },
  {
   "cell_type": "code",
   "execution_count": 21,
   "id": "b7639ee3",
   "metadata": {},
   "outputs": [],
   "source": [
    "action = sample_next_actions(available_act)"
   ]
  },
  {
   "cell_type": "code",
   "execution_count": 22,
   "id": "3fab370b",
   "metadata": {},
   "outputs": [
    {
     "name": "stdout",
     "output_type": "stream",
     "text": [
      "3\n"
     ]
    }
   ],
   "source": [
    "print(action)"
   ]
  },
  {
   "cell_type": "code",
   "execution_count": 57,
   "id": "f18b5230",
   "metadata": {},
   "outputs": [],
   "source": [
    "def update(current_state, action, gamma):\n",
    "    max_index = np.where(Q[action] == np.max(Q[action,])) [1]\n",
    "    if max_index.shape[0] >1:\n",
    "        max_index = int(np.random.choice(max_index, size = 1))\n",
    "    else:\n",
    "        max_index = int(max_index)\n",
    "        \n",
    "    max_value = Q[action,max_index] \n",
    "     \n",
    "    # q learning formula\n",
    "\n",
    "    Q[current_state,action] = R[current_state,action] + gamma * max_value"
   ]
  },
  {
   "cell_type": "code",
   "execution_count": 58,
   "id": "3f7f5c48",
   "metadata": {},
   "outputs": [],
   "source": [
    "update(initial_state, action, gamma)"
   ]
  },
  {
   "cell_type": "code",
   "execution_count": 59,
   "id": "d0192b2b",
   "metadata": {},
   "outputs": [],
   "source": [
    "# train - for 10000 times\n",
    "\n",
    "for i in range(10000):\n",
    "    current_state = np.random.randint(0,int(Q.shape[0]))\n",
    "    available_act = available_actions(current_state)\n",
    "    action = sample_next_actions(available_act)\n",
    "    update(current_state, action, gamma)"
   ]
  },
  {
   "cell_type": "code",
   "execution_count": 60,
   "id": "9e765f8c",
   "metadata": {},
   "outputs": [
    {
     "name": "stdout",
     "output_type": "stream",
     "text": [
      "[[   0.    0.    0.    0.  900.    0.]\n",
      " [   0.    0.    0.  810.   -1. 1000.]\n",
      " [   0.    0.    0.  810.    0.    0.]\n",
      " [   0.  900.  729.    0.  900.    0.]\n",
      " [   0.  900.  729.    0.    0. 1000.]\n",
      " [   0.  900.    0.    0.  900. 1000.]]\n"
     ]
    }
   ],
   "source": [
    "print(Q)"
   ]
  },
  {
   "cell_type": "code",
   "execution_count": 61,
   "id": "d565af15",
   "metadata": {},
   "outputs": [
    {
     "name": "stdout",
     "output_type": "stream",
     "text": [
      "[[  0.    0.    0.    0.   90.    0. ]\n",
      " [  0.    0.    0.   81.   -0.1 100. ]\n",
      " [  0.    0.    0.   81.    0.    0. ]\n",
      " [  0.   90.   72.9   0.   90.    0. ]\n",
      " [  0.   90.   72.9   0.    0.  100. ]\n",
      " [  0.   90.    0.    0.   90.  100. ]]\n"
     ]
    }
   ],
   "source": [
    "print(Q/np.max(Q)*100)"
   ]
  },
  {
   "cell_type": "code",
   "execution_count": 62,
   "id": "bbc75a92",
   "metadata": {},
   "outputs": [],
   "source": [
    "#test\n",
    "\n",
    "current_state = 2\n",
    "steps = [current_state]"
   ]
  },
  {
   "cell_type": "code",
   "execution_count": null,
   "id": "0619fa6d",
   "metadata": {},
   "outputs": [],
   "source": [
    "while current_state != 5:\n",
    "    next_step_index = np.where(Q[current_state,] == np.max(Q[current_state,]))[1]\n",
    "    if next_step_index.shape[0] >1:\n",
    "        next_step_index = int(np.random.choice(next_step_index, size=1))\n",
    "    else :\n",
    "        next_step_index = int(next_step_index)"
   ]
  },
  {
   "cell_type": "code",
   "execution_count": null,
   "id": "3cc43e41",
   "metadata": {},
   "outputs": [],
   "source": [
    "steps.append(next_step_index)\n",
    "current_state = next_step_index"
   ]
  },
  {
   "cell_type": "code",
   "execution_count": null,
   "id": "fa49ef98",
   "metadata": {},
   "outputs": [],
   "source": [
    "print(\"path: \\n\",steps)"
   ]
  },
  {
   "cell_type": "code",
   "execution_count": null,
   "id": "d461d381",
   "metadata": {},
   "outputs": [],
   "source": []
  },
  {
   "cell_type": "code",
   "execution_count": null,
   "id": "57966ba7",
   "metadata": {},
   "outputs": [],
   "source": []
  }
 ],
 "metadata": {
  "kernelspec": {
   "display_name": "Python 3 (ipykernel)",
   "language": "python",
   "name": "python3"
  },
  "language_info": {
   "codemirror_mode": {
    "name": "ipython",
    "version": 3
   },
   "file_extension": ".py",
   "mimetype": "text/x-python",
   "name": "python",
   "nbconvert_exporter": "python",
   "pygments_lexer": "ipython3",
   "version": "3.11.4"
  }
 },
 "nbformat": 4,
 "nbformat_minor": 5
}
